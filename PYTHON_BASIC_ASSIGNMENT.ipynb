{
  "nbformat": 4,
  "nbformat_minor": 0,
  "metadata": {
    "colab": {
      "provenance": []
    },
    "kernelspec": {
      "name": "python3",
      "display_name": "Python 3"
    },
    "language_info": {
      "name": "python"
    }
  },
  "cells": [
    {
      "cell_type": "code",
      "execution_count": 32,
      "metadata": {
        "id": "s7jEz1yJY4mA"
      },
      "outputs": [],
      "source": []
    },
    {
      "cell_type": "markdown",
      "source": [
        "# python Theory"
      ],
      "metadata": {
        "id": "ITgnKw2gZlDG"
      }
    },
    {
      "cell_type": "markdown",
      "source": [
        "1.What is Python, and why is it popular?\n",
        "\n",
        "  - Python is a high-level, readable programming language that is employed for web development, data analysis, automation, artificial intelligence, and many more. It is well-liked due to its minimalistic syntax, extensive community, and large number of libraries.\n",
        "\n",
        "2.What is an interpreter in Python?\n",
        "\n",
        "   - An interpreter in Python is a program that reads and runs Python code line by line, turning it into actions the computer can perform.\n",
        "\n",
        "3.What are pre-defined keywords in Python?\n",
        "\n",
        "   - Pre-defined keywords in Python are special words that have specific meanings and uses in the language, like `if`, `else`, `while`, and `def`. You can't use them as variable names.\n",
        "\n",
        "4.Can keywords be used as variable names?\n",
        "\n",
        "   - No, keywords cannot be used as variable names in Python because they are reserved for specific functions in the language.\n",
        "\n",
        "5.What is mutability in Python?\n",
        "\n",
        "   - Mutability in Python means whether or not an object can be changed after it is created. **Mutable** objects (like lists or dictionaries) can be changed, while **immutable** objects (like strings or tuples) cannot.\n",
        "\n",
        "6.Why are lists mutable, but tuples are immutable?\n",
        "\n",
        "   -  Lists are mutable because they are designed to allow changes—like adding, removing, or updating elements—after creation. Tuples are immutable to ensure fixed data that cannot be changed, which makes them faster and safer to use in certain cases like dictionary keys.\n",
        "\n",
        "7.What is the difference between “==” and “is” operators in Python?\n",
        "\n",
        "   - In Python, `==` checks if two values are **equal**, while `is` checks if two variables point to the **same object in memory**.\n",
        "\n",
        "8.What are logical operators in Python?\n",
        "\n",
        "  - Logical operators in Python are used to combine multiple conditions. The main ones are:\n",
        "\n",
        "*  `and` (true if both conditions are true)\n",
        "*  `or` (true if at least one condition is true)\n",
        "*  `not` (reverses the condition's result)\n",
        "\n",
        "9.What is type casting in Python?\n",
        "\n",
        "  - Type casting in Python means converting a value from one data type to another, like turning a string into an integer using `int(\"5\")`.\n",
        "\n",
        "10.What is the difference between implicit and explicit type casting?\n",
        "\n",
        "  - **Implicit type casting** is done automatically by Python (e.g., converting `int` to `float` in expressions), while **explicit type casting** is done by the programmer using functions like `int()`, `float()`, or `str()`.\n",
        "\n",
        "11.What is the purpose of conditional statements in Python?\n",
        "\n",
        "  - Conditional statements in Python, like `if`, `elif`, and `else`, allow you to execute different blocks of code based on whether a condition is true or false.\n",
        "\n",
        "12.How does the elif statement work?\n",
        "\n",
        "  - The '`elif`' (else if) statement in Python checks additional conditions if the preceding '`if`' or '`elif`' conditions are false. It allows multiple conditions to be tested in sequence. If an '`elif`' condition is true, its block of code is executed.\n",
        "\n",
        "13.What is the difference between for and while loops?\n",
        "\n",
        "  - The difference between `for` and `while` loops in Python:\n",
        "\n",
        "* **`for` loop** is used when you know the number of iterations or want to loop through a sequence (like a list or range).\n",
        "* **`while` loop** runs as long as a condition is true, and you don't necessarily know how many iterations will occur in advance.\n",
        "\n",
        "14.Describe a scenario where a while loop is more suitable than a for loop.\n",
        "\n",
        "  - A `while` loop is more suitable when you don’t know how many iterations are needed in advance, but you want to keep looping until a specific condition is met.\n",
        "\n",
        "For example, in a game where the player keeps guessing a number until they get it right, a `while` loop would be ideal:\n",
        "\n",
        "```python\n",
        "correct_number = 7\n",
        "guess = None\n",
        "\n",
        "while guess != correct_number:\n",
        "    guess = int(input(\"Guess the number: \"))\n",
        "```\n",
        "\n",
        "Here, the loop continues until the player guesses the correct number, and you don't know how many guesses will be made in advance.\n",
        "\n",
        "\n",
        "\n"
      ],
      "metadata": {
        "id": "YUyrRyLEaU1t"
      }
    },
    {
      "cell_type": "markdown",
      "source": [],
      "metadata": {
        "id": "Lbpxpb-jaIwZ"
      }
    },
    {
      "cell_type": "markdown",
      "source": [
        "# python Practical"
      ],
      "metadata": {
        "id": "FEpcT3rRgaWv"
      }
    },
    {
      "cell_type": "code",
      "source": [
        "# 1. Write a Python program to print \"Hello, World!\"\n",
        "\n",
        "print(\"Hello,World!\")"
      ],
      "metadata": {
        "colab": {
          "base_uri": "https://localhost:8080/"
        },
        "id": "2HGsWX1JbrPG",
        "outputId": "255d35f7-3baa-4b3c-ddb6-47cac29e759b"
      },
      "execution_count": null,
      "outputs": [
        {
          "output_type": "stream",
          "name": "stdout",
          "text": [
            "Hello,World!\n"
          ]
        }
      ]
    },
    {
      "cell_type": "code",
      "source": [
        "# 2. Write a Python program that displays your name and age.\n",
        "\n",
        "name=\"ahana\"\n",
        "age=\"24\"\n",
        "\n",
        "print(f\"my name is {name} and my age is {age}\")\n",
        "\n"
      ],
      "metadata": {
        "colab": {
          "base_uri": "https://localhost:8080/"
        },
        "id": "nuQPa2C8cQ7U",
        "outputId": "7d25cfa2-e327-4a35-d518-d7a499255879"
      },
      "execution_count": null,
      "outputs": [
        {
          "output_type": "stream",
          "name": "stdout",
          "text": [
            "my name is ahana and my age is 24\n"
          ]
        }
      ]
    },
    {
      "cell_type": "code",
      "source": [
        "# 3. Write code to print all the pre-defined keywords in Python using the keyword library.\n",
        "\n",
        "help(\"keywords\")"
      ],
      "metadata": {
        "colab": {
          "base_uri": "https://localhost:8080/"
        },
        "id": "Yl2XHqUueP5J",
        "outputId": "6c2660e7-958d-4e60-fb2f-fe01f895dd25"
      },
      "execution_count": null,
      "outputs": [
        {
          "output_type": "stream",
          "name": "stdout",
          "text": [
            "\n",
            "Here is a list of the Python keywords.  Enter any keyword to get more help.\n",
            "\n",
            "False               class               from                or\n",
            "None                continue            global              pass\n",
            "True                def                 if                  raise\n",
            "and                 del                 import              return\n",
            "as                  elif                in                  try\n",
            "assert              else                is                  while\n",
            "async               except              lambda              with\n",
            "await               finally             nonlocal            yield\n",
            "break               for                 not                 \n",
            "\n"
          ]
        }
      ]
    },
    {
      "cell_type": "code",
      "source": [],
      "metadata": {
        "id": "A5o65ldmigUq"
      },
      "execution_count": null,
      "outputs": []
    },
    {
      "cell_type": "code",
      "source": [
        "# 4. Write a program that checks if a given word is a Python keyword.\n",
        "\n",
        "import keyword\n",
        "\n",
        "word = input(\"Enter a word: \")\n",
        "if keyword.iskeyword(word):\n",
        "    print(\"This is a Python keyword.\")\n",
        "else:\n",
        "    print(\"This is NOT a Python keyword.\")\n"
      ],
      "metadata": {
        "colab": {
          "base_uri": "https://localhost:8080/"
        },
        "id": "E5u0cfgqeqgs",
        "outputId": "4d887099-26fe-4210-ea00-976ab1a3163e"
      },
      "execution_count": 11,
      "outputs": [
        {
          "output_type": "stream",
          "name": "stdout",
          "text": [
            "Enter a word: finally\n",
            "This is a Python keyword.\n"
          ]
        }
      ]
    },
    {
      "cell_type": "code",
      "source": [
        "# 5.Create a list and tuple in Python, and demonstrate how attempting to change an element works differently for each.\n",
        "\n",
        "\n",
        "my_list = [1, 2, 3]\n",
        "my_tuple = (4, 5, 6)\n",
        "\n",
        "my_list[1] = 20\n",
        "print(\"Modified list:\", my_list)\n",
        "\n",
        "try:\n",
        "    my_tuple[1] = 50\n",
        "except TypeError as e:\n",
        "    print(\"Error:\", e)\n",
        "\n"
      ],
      "metadata": {
        "colab": {
          "base_uri": "https://localhost:8080/"
        },
        "id": "WxViCN9Ob3cA",
        "outputId": "d157cec9-01f7-45a5-e897-4ccd9fa72258"
      },
      "execution_count": 20,
      "outputs": [
        {
          "output_type": "stream",
          "name": "stdout",
          "text": [
            "Modified list: [1, 20, 3]\n",
            "Error: 'tuple' object does not support item assignment\n"
          ]
        }
      ]
    },
    {
      "cell_type": "code",
      "source": [
        "# 6. Write a function to demonstrate the behavior of mutable and immutable arguments.\n",
        "\n",
        "def modify_arguments(a_number, a_list):\n",
        "    a_number += 10        # Attempt to modify immutable argument\n",
        "    a_list.append(100)    # Modify mutable argument\n",
        "    print(\"Inside function - a_number:\", a_number)\n",
        "    print(\"Inside function - a_list:\", a_list)\n",
        "\n",
        "# Immutable argument (integer)\n",
        "num = 5\n",
        "# Mutable argument (list)\n",
        "lst = [1, 2, 3]\n",
        "\n",
        "modify_arguments(num, lst)\n",
        "\n",
        "print(\"Outside function - num:\", num)\n",
        "print(\"Outside function - lst:\", lst)\n"
      ],
      "metadata": {
        "colab": {
          "base_uri": "https://localhost:8080/"
        },
        "id": "xAEBKOM2eK6F",
        "outputId": "1562c613-16e2-42dd-95e0-fa760eb57f1b"
      },
      "execution_count": 21,
      "outputs": [
        {
          "output_type": "stream",
          "name": "stdout",
          "text": [
            "Inside function - a_number: 15\n",
            "Inside function - a_list: [1, 2, 3, 100]\n",
            "Outside function - num: 5\n",
            "Outside function - lst: [1, 2, 3, 100]\n"
          ]
        }
      ]
    },
    {
      "cell_type": "code",
      "source": [
        "# 7. Write a program that performs basic arithmetic operations on two user-input numbers.\n",
        "# Basic Arithmetic Operations Program\n",
        "\n",
        "# Get user input\n",
        "num1 = float(input(\"Enter the first number: \"))\n",
        "num2 = float(input(\"Enter the second number: \"))\n",
        "\n",
        "# Perform operations\n",
        "addition = num1 + num2\n",
        "subtraction = num1 - num2\n",
        "multiplication = num1 * num2\n",
        "\n",
        "# Handle division by zero\n",
        "if num2 != 0:\n",
        "    division = num1 / num2\n",
        "else:\n",
        "    division = \"Undefined (cannot divide by zero)\"\n",
        "\n",
        "# Display results\n",
        "print(f\"Addition: {num1} + {num2} = {addition}\")\n",
        "print(f\"Subtraction: {num1} - {num2} = {subtraction}\")\n",
        "print(f\"Multiplication: {num1} * {num2} = {multiplication}\")\n",
        "print(f\"Division: {num1} / {num2} = {division}\")\n"
      ],
      "metadata": {
        "colab": {
          "base_uri": "https://localhost:8080/"
        },
        "id": "zyAdlTbJemiS",
        "outputId": "4afbe403-6878-4228-d636-131188dba883"
      },
      "execution_count": 24,
      "outputs": [
        {
          "output_type": "stream",
          "name": "stdout",
          "text": [
            "Enter the first number: 5\n",
            "Enter the second number: 0\n",
            "Addition: 5.0 + 0.0 = 5.0\n",
            "Subtraction: 5.0 - 0.0 = 5.0\n",
            "Multiplication: 5.0 * 0.0 = 0.0\n",
            "Division: 5.0 / 0.0 = Undefined (cannot divide by zero)\n"
          ]
        }
      ]
    },
    {
      "cell_type": "code",
      "source": [
        "# 8. Write a program to demonstrate the use of logical operators.\n",
        "# Program to demonstrate the use of logical operators\n",
        "\n",
        "# Get user input\n",
        "a = int(input(\"Enter first number (a): \"))\n",
        "b = int(input(\"Enter second number (b): \"))\n",
        "\n",
        "# Logical AND\n",
        "and_result = (a > 0) and (b > 0)\n",
        "print(f\"Both a and b are positive: {and_result}\")\n",
        "\n",
        "# Logical OR\n",
        "or_result = (a > 0) or (b > 0)\n",
        "print(f\"At least one of a or b is positive: {or_result}\")\n",
        "\n",
        "# Logical NOT\n",
        "not_result = not (a > 0)\n",
        "print(f\"a is not positive: {not_result}\")\n"
      ],
      "metadata": {
        "colab": {
          "base_uri": "https://localhost:8080/"
        },
        "id": "NushiQm5fQno",
        "outputId": "bc6c7d48-24cd-4cb2-d4c4-7a2ff3a4dbb8"
      },
      "execution_count": 25,
      "outputs": [
        {
          "output_type": "stream",
          "name": "stdout",
          "text": [
            "Enter first number (a): 5\n",
            "Enter second number (b): -3\n",
            "Both a and b are positive: False\n",
            "At least one of a or b is positive: True\n",
            "a is not positive: False\n"
          ]
        }
      ]
    },
    {
      "cell_type": "code",
      "source": [
        "# 9. Write a Python program to convert user input from string to integer, float, and boolean types.\n",
        "# Program to convert user input from string to integer, float, and boolean types\n",
        "\n",
        "user_input = input(\"Enter a value: \")\n",
        "\n",
        "# Convert to integer\n",
        "try:\n",
        "    int_value = int(user_input)\n",
        "    print(\"Integer value:\", int_value)\n",
        "except ValueError:\n",
        "    print(\"Cannot convert to integer.\")\n",
        "\n",
        "# Convert to float\n",
        "try:\n",
        "    float_value = float(user_input)\n",
        "    print(\"Float value:\", float_value)\n",
        "except ValueError:\n",
        "    print(\"Cannot convert to float.\")\n",
        "\n",
        "# Convert to boolean\n",
        "# Any non-empty string except '0', 'false', 'no' (case-insensitive) is considered True\n",
        "bool_value = user_input.strip().lower() not in ['', '0', 'false', 'no']\n",
        "print(\"Boolean value:\", bool_value)\n"
      ],
      "metadata": {
        "colab": {
          "base_uri": "https://localhost:8080/"
        },
        "id": "IMehAdh1fkuS",
        "outputId": "11300571-5363-4915-b39f-3e15669aec1d"
      },
      "execution_count": 26,
      "outputs": [
        {
          "output_type": "stream",
          "name": "stdout",
          "text": [
            "Enter a value: 42\n",
            "Integer value: 42\n",
            "Float value: 42.0\n",
            "Boolean value: True\n"
          ]
        }
      ]
    },
    {
      "cell_type": "code",
      "source": [
        "# 10. Write code to demonstrate type casting with list elements.\n",
        "# Code to demonstrate type casting with list elements\n",
        "\n",
        "# Original list of strings\n",
        "str_list = ['10', '20', '30', '40.5', 'abc']\n",
        "\n",
        "# Convert list elements to integers (where possible)\n",
        "int_list = []\n",
        "for item in str_list:\n",
        "    try:\n",
        "        int_list.append(int(item))\n",
        "    except ValueError:\n",
        "        int_list.append(None)  # Use None for values that can't be converted\n",
        "\n",
        "print(\"Original list:\", str_list)\n",
        "print(\"List after casting to integers:\", int_list)\n",
        "\n",
        "# Convert list elements to floats (where possible)\n",
        "float_list = []\n",
        "for item in str_list:\n",
        "    try:\n",
        "        float_list.append(float(item))\n",
        "    except ValueError:\n",
        "        float_list.append(None)\n",
        "\n",
        "print(\"List after casting to floats:\", float_list)\n"
      ],
      "metadata": {
        "colab": {
          "base_uri": "https://localhost:8080/"
        },
        "id": "LjDseHkef7FM",
        "outputId": "5ac6dd84-beaa-425f-c10d-e42d7940adaa"
      },
      "execution_count": 27,
      "outputs": [
        {
          "output_type": "stream",
          "name": "stdout",
          "text": [
            "Original list: ['10', '20', '30', '40.5', 'abc']\n",
            "List after casting to integers: [10, 20, 30, None, None]\n",
            "List after casting to floats: [10.0, 20.0, 30.0, 40.5, None]\n"
          ]
        }
      ]
    },
    {
      "cell_type": "code",
      "source": [
        "# 11. Write a program that checks if a number is positive, negative, or zero.\n",
        "# Program to check if a number is positive, negative, or zero\n",
        "\n",
        "num = float(input(\"Enter a number: \"))\n",
        "\n",
        "if num > 0:\n",
        "    print(\"The number is positive.\")\n",
        "elif num < 0:\n",
        "    print(\"The number is negative.\")\n",
        "else:\n",
        "    print(\"The number is zero.\")\n"
      ],
      "metadata": {
        "colab": {
          "base_uri": "https://localhost:8080/"
        },
        "id": "ASc_o2UkgMUN",
        "outputId": "0978bc38-4527-4bfc-df73-aefbeeb35ba1"
      },
      "execution_count": 28,
      "outputs": [
        {
          "output_type": "stream",
          "name": "stdout",
          "text": [
            "Enter a number: -7\n",
            "The number is negative.\n"
          ]
        }
      ]
    },
    {
      "cell_type": "code",
      "source": [
        "# 12. Write a for loop to print numbers from 1 to 10.\n",
        "# For loop to print numbers from 1 to 10\n",
        "\n",
        "for i in range(1, 11):\n",
        "    print(i)\n"
      ],
      "metadata": {
        "colab": {
          "base_uri": "https://localhost:8080/"
        },
        "id": "wpkyFgNIgfKp",
        "outputId": "1e8fb364-169e-457d-fd68-9bf33814cd5b"
      },
      "execution_count": 29,
      "outputs": [
        {
          "output_type": "stream",
          "name": "stdout",
          "text": [
            "1\n",
            "2\n",
            "3\n",
            "4\n",
            "5\n",
            "6\n",
            "7\n",
            "8\n",
            "9\n",
            "10\n"
          ]
        }
      ]
    },
    {
      "cell_type": "code",
      "source": [
        "# 13. Write a Python program to find the sum of all even numbers between 1 and 50.\n",
        "# Program to find the sum of all even numbers between 1 and 50\n",
        "\n",
        "even_sum = 0\n",
        "\n",
        "for num in range(2, 51, 2):  # Start from 2, go up to 50, step by 2\n",
        "    even_sum += num\n",
        "\n",
        "print(\"Sum of all even numbers between 1 and 50 is:\", even_sum)\n"
      ],
      "metadata": {
        "colab": {
          "base_uri": "https://localhost:8080/"
        },
        "id": "-QUBdKQ2gsp4",
        "outputId": "dbadc8bb-ec8a-4a43-d63a-2e0b8a4561c9"
      },
      "execution_count": 30,
      "outputs": [
        {
          "output_type": "stream",
          "name": "stdout",
          "text": [
            "Sum of all even numbers between 1 and 50 is: 650\n"
          ]
        }
      ]
    },
    {
      "cell_type": "code",
      "source": [
        "# 14. Write a program to reverse a string using a while loop.\n",
        "# Program to reverse a string using a while loop\n",
        "\n",
        "text = input(\"Enter a string: \")\n",
        "reversed_text = \"\"\n",
        "index = len(text) - 1\n",
        "\n",
        "while index >= 0:\n",
        "    reversed_text += text[index]\n",
        "    index -= 1\n",
        "\n",
        "print(\"Reversed string:\", reversed_text)\n"
      ],
      "metadata": {
        "colab": {
          "base_uri": "https://localhost:8080/"
        },
        "id": "CJ_VBgbmg4Na",
        "outputId": "cff96a8a-f83e-4cd5-f4ee-369a7b0ac2ed"
      },
      "execution_count": 31,
      "outputs": [
        {
          "output_type": "stream",
          "name": "stdout",
          "text": [
            "Enter a string: hello\n",
            "Reversed string: olleh\n"
          ]
        }
      ]
    },
    {
      "cell_type": "code",
      "source": [
        "# 15. Write a Python program to calculate the factorial of a number provided by the user using a while loop.\n",
        "# Program to calculate the factorial of a number using a while loop\n",
        "\n",
        "num = int(input(\"Enter a non-negative integer: \"))\n",
        "factorial = 1\n",
        "n = num\n",
        "\n",
        "if num < 0:\n",
        "    print(\"Factorial is not defined for negative numbers.\")\n",
        "else:\n",
        "    while n > 1:\n",
        "        factorial *= n\n",
        "        n -= 1\n",
        "    print(f\"Factorial of {num} is: {factorial}\")\n"
      ],
      "metadata": {
        "colab": {
          "base_uri": "https://localhost:8080/"
        },
        "id": "G77zsjPShSnQ",
        "outputId": "74dbc798-745b-41ab-ab8e-97db9d88d610"
      },
      "execution_count": 32,
      "outputs": [
        {
          "output_type": "stream",
          "name": "stdout",
          "text": [
            "Enter a non-negative integer: 5\n",
            "Factorial of 5 is: 120\n"
          ]
        }
      ]
    },
    {
      "cell_type": "markdown",
      "source": [
        "# **THANK** **YOU**"
      ],
      "metadata": {
        "id": "kjnv9IdlhjoF"
      }
    }
  ]
}